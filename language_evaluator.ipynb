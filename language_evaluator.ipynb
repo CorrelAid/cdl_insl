{
 "cells": [
  {
   "cell_type": "code",
   "id": "initial_id",
   "metadata": {
    "collapsed": true,
    "ExecuteTime": {
     "end_time": "2025-08-24T19:07:03.987026Z",
     "start_time": "2025-08-24T19:07:02.220425Z"
    }
   },
   "source": [
    "import os\n",
    "import pandas as pd\n",
    "from openai import OpenAI\n",
    "from dotenv import load_dotenv\n",
    "load_dotenv()"
   ],
   "outputs": [
    {
     "data": {
      "text/plain": [
       "True"
      ]
     },
     "execution_count": 1,
     "metadata": {},
     "output_type": "execute_result"
    }
   ],
   "execution_count": 1
  },
  {
   "metadata": {
    "ExecuteTime": {
     "end_time": "2025-08-24T19:07:04.012745Z",
     "start_time": "2025-08-24T19:07:03.997311Z"
    }
   },
   "cell_type": "code",
   "source": [
    "df = pd.read_csv(\"data/data.csv\")\n",
    "df.head()"
   ],
   "id": "87f838f8d50692cc",
   "outputs": [
    {
     "data": {
      "text/plain": [
       "                                                text\n",
       "0  Die Männerrunde am Brunnen\\n\\nHerr Jakob steht...\n",
       "1  Herr Jakob guckt den Männern zu wie sie\\nDie S...\n",
       "2  Die Männerrunde am Brunnen \\nHerr Jakob beobac...\n",
       "3  Die Männerrunden am Brunnen\\n\\nHerr Jakob beob...\n",
       "4  Herr Jakob\\n\\nHerr jakob beobadete die Boote.\\..."
      ],
      "text/html": [
       "<div>\n",
       "<style scoped>\n",
       "    .dataframe tbody tr th:only-of-type {\n",
       "        vertical-align: middle;\n",
       "    }\n",
       "\n",
       "    .dataframe tbody tr th {\n",
       "        vertical-align: top;\n",
       "    }\n",
       "\n",
       "    .dataframe thead th {\n",
       "        text-align: right;\n",
       "    }\n",
       "</style>\n",
       "<table border=\"1\" class=\"dataframe\">\n",
       "  <thead>\n",
       "    <tr style=\"text-align: right;\">\n",
       "      <th></th>\n",
       "      <th>text</th>\n",
       "    </tr>\n",
       "  </thead>\n",
       "  <tbody>\n",
       "    <tr>\n",
       "      <th>0</th>\n",
       "      <td>Die Männerrunde am Brunnen\\n\\nHerr Jakob steht...</td>\n",
       "    </tr>\n",
       "    <tr>\n",
       "      <th>1</th>\n",
       "      <td>Herr Jakob guckt den Männern zu wie sie\\nDie S...</td>\n",
       "    </tr>\n",
       "    <tr>\n",
       "      <th>2</th>\n",
       "      <td>Die Männerrunde am Brunnen \\nHerr Jakob beobac...</td>\n",
       "    </tr>\n",
       "    <tr>\n",
       "      <th>3</th>\n",
       "      <td>Die Männerrunden am Brunnen\\n\\nHerr Jakob beob...</td>\n",
       "    </tr>\n",
       "    <tr>\n",
       "      <th>4</th>\n",
       "      <td>Herr Jakob\\n\\nHerr jakob beobadete die Boote.\\...</td>\n",
       "    </tr>\n",
       "  </tbody>\n",
       "</table>\n",
       "</div>"
      ]
     },
     "execution_count": 2,
     "metadata": {},
     "output_type": "execute_result"
    }
   ],
   "execution_count": 2
  },
  {
   "metadata": {},
   "cell_type": "markdown",
   "source": "# Clean Text",
   "id": "30d1bbb1f469657f"
  },
  {
   "metadata": {
    "ExecuteTime": {
     "end_time": "2025-08-24T19:07:12.463567Z",
     "start_time": "2025-08-24T19:07:12.456088Z"
    }
   },
   "cell_type": "code",
   "source": [
    "import re\n",
    "\n",
    "def clean_text(text: str):\n",
    "    text = re.sub(r'\\s+',' ', text).strip() # Remove extra spaces\n",
    "    text = re.sub(r'[^\\w\\s.,!?äöüÄÖÜß-]', '', text)  # Remove non-alphabetic/emojis except German chars\n",
    "\n",
    "    return text"
   ],
   "id": "78a6c5c207d401d2",
   "outputs": [],
   "execution_count": 3
  },
  {
   "metadata": {},
   "cell_type": "markdown",
   "source": "# Spelling Correction",
   "id": "5e07e80634b8d9ab"
  },
  {
   "metadata": {},
   "cell_type": "code",
   "outputs": [],
   "execution_count": null,
   "source": "client = OpenAI(api_key=os.environ[\"DEEPSEEK_API_KEY\"], base_url=\"https://api.deepseek.com\")",
   "id": "352a99d7a454d3d3"
  },
  {
   "metadata": {
    "ExecuteTime": {
     "end_time": "2025-08-24T19:07:29.601780Z",
     "start_time": "2025-08-24T19:07:29.194433Z"
    }
   },
   "cell_type": "code",
   "source": [
    "def correct_spelling(text):\n",
    "    response = client.chat.completions.create(\n",
    "        model=\"deepseek-chat\",\n",
    "        messages=[\n",
    "            {\"role\": \"user\", \"content\": f\"Return the below text after spelling correction. Leave the rest of errors as it is. Do not do any formatting.\\n\\n{text}\"},\n",
    "        ],\n",
    "        stream=False\n",
    "    )\n",
    "    return response.choices[0].message.content"
   ],
   "id": "6b7589b2a712765",
   "outputs": [],
   "execution_count": 4
  },
  {
   "metadata": {},
   "cell_type": "markdown",
   "source": "# Count Verbs",
   "id": "c25c699167339e99"
  },
  {
   "metadata": {
    "ExecuteTime": {
     "end_time": "2025-08-24T19:07:44.222041Z",
     "start_time": "2025-08-24T19:07:38.772807Z"
    }
   },
   "cell_type": "code",
   "source": [
    "import spacy\n",
    "from spacy import displacy\n",
    "from spacy.tokens import Span\n",
    "from IPython.display import display, HTML\n",
    "# Load spaCy German model\n",
    "# Make sure to install it first with: python -m spacy download de_dep_news_trf\n",
    "nlp = spacy.load(\"de_dep_news_trf\")"
   ],
   "id": "5535fb4967c26fd9",
   "outputs": [],
   "execution_count": 5
  },
  {
   "metadata": {
    "ExecuteTime": {
     "end_time": "2025-08-24T18:24:51.337181Z",
     "start_time": "2025-08-24T18:24:51.332622Z"
    }
   },
   "cell_type": "code",
   "source": [
    "# for label in nlp.get_pipe(\"tagger\").labels:\n",
    "#     print(label, \" -- \", spacy.explain(label))"
   ],
   "id": "d09bf3c96c4ef71a",
   "outputs": [],
   "execution_count": 6
  },
  {
   "metadata": {
    "ExecuteTime": {
     "end_time": "2025-08-24T19:07:49.593338Z",
     "start_time": "2025-08-24T19:07:49.587375Z"
    }
   },
   "cell_type": "code",
   "source": [
    "def count_verbs(text):\n",
    "    doc = nlp(text)\n",
    "    spans = []\n",
    "    verb_counter = {'PRES': 0, 'PAST': 0, 'VERB': 0}\n",
    "    for token in doc:\n",
    "        if token.pos_ in [\"VERB\", \"AUX\"]:\n",
    "            # Detect tense\n",
    "            verb_counter['VERB'] += 1\n",
    "            if \"Tense=Pres\" in token.morph:\n",
    "                label = \"PRES\"\n",
    "                verb_counter['PRES'] += 1\n",
    "            elif \"Tense=Past\" in token.morph:\n",
    "                label = \"PAST\"\n",
    "                verb_counter['PAST'] += 1\n",
    "            else:\n",
    "                label = \"VERB\"\n",
    "\n",
    "            span = Span(doc, token.i, token.i+1, label=label)\n",
    "            spans.append(span)\n",
    "    # Add spans as entities\n",
    "    doc.ents = spans\n",
    "    return verb_counter, doc"
   ],
   "id": "9ed0c2127d069c7b",
   "outputs": [],
   "execution_count": 7
  },
  {
   "metadata": {
    "ExecuteTime": {
     "end_time": "2025-08-24T19:07:51.889908Z",
     "start_time": "2025-08-24T19:07:51.884813Z"
    }
   },
   "cell_type": "code",
   "source": [
    "# Visualization options with different colors\n",
    "options = {\n",
    "    \"ents\": [\"PRES\", \"PAST\", \"VERB\"],\n",
    "    \"colors\": {\n",
    "        \"PRES\": \"linear-gradient(90deg, #9cffac, #49e85d)\", # green\n",
    "        \"PAST\": \"linear-gradient(90deg, #ff9c9c, #e84949)\" , # red\n",
    "        \"VERB\": \"linear-gradient(90deg, #ffd799, #ffa500)\", # orange\n",
    "    }\n",
    "}"
   ],
   "id": "fdb884c3df8bb8e4",
   "outputs": [],
   "execution_count": 8
  },
  {
   "metadata": {},
   "cell_type": "markdown",
   "source": "## Original Text",
   "id": "44cb16bcf0e4c945"
  },
  {
   "metadata": {
    "ExecuteTime": {
     "end_time": "2025-08-24T19:07:54.778302Z",
     "start_time": "2025-08-24T19:07:54.772780Z"
    }
   },
   "cell_type": "code",
   "source": [
    "text = clean_text(df.text.iloc[2])\n",
    "text"
   ],
   "id": "4ea45cd9d35b4f67",
   "outputs": [
    {
     "data": {
      "text/plain": [
       "'Die Männerrunde am Brunnen Herr Jakob beobachtete die Boote, weil er sie interresant fand. Der Mann laß die Boote zu Wasser, weil er daran Spaß hatte. Die Eisenbahn fuhr durch der Rand des Brunnens, weil er Züge mochte. Die Boote segelten übers Wasser, weil sie aus Holz gemacht wurden. Herr Jakob bastelte die Schienen zusammen, weil dann könnte die Eisenbahn nicht fahren. Herr Jakob kehrte zur Brunnen zurück, weil er neue Ideen hatte. Herr Jakob baute die Schienen auf, weil er die fuhren lassen will.'"
      ]
     },
     "execution_count": 9,
     "metadata": {},
     "output_type": "execute_result"
    }
   ],
   "execution_count": 9
  },
  {
   "metadata": {
    "ExecuteTime": {
     "end_time": "2025-08-24T19:07:56.821664Z",
     "start_time": "2025-08-24T19:07:56.683926Z"
    }
   },
   "cell_type": "code",
   "source": [
    "verb_counter, doc = count_verbs(text)\n",
    "print(f\"Verb count: {verb_counter}\")\n",
    "html = displacy.render(doc, style=\"ent\", options=options, page=True, jupyter=False)\n",
    "display(HTML(html))"
   ],
   "id": "e060f8c7289ecc43",
   "outputs": [
    {
     "name": "stdout",
     "output_type": "stream",
     "text": [
      "Verb count: {'PRES': 1, 'PAST': 13, 'VERB': 17}\n"
     ]
    },
    {
     "data": {
      "text/plain": [
       "<IPython.core.display.HTML object>"
      ],
      "text/html": [
       "<!DOCTYPE html>\n",
       "<html lang=\"de\">\n",
       "    <head>\n",
       "        <title>displaCy</title>\n",
       "    </head>\n",
       "\n",
       "    <body style=\"font-size: 16px; font-family: -apple-system, BlinkMacSystemFont, 'Segoe UI', Helvetica, Arial, sans-serif, 'Apple Color Emoji', 'Segoe UI Emoji', 'Segoe UI Symbol'; padding: 4rem 2rem; direction: ltr\">\n",
       "<figure style=\"margin-bottom: 6rem\">\n",
       "<div class=\"entities\" style=\"line-height: 2.5; direction: ltr\">Die Männerrunde am Brunnen Herr Jakob \n",
       "<mark class=\"entity\" style=\"background: linear-gradient(90deg, #ff9c9c, #e84949); padding: 0.45em 0.6em; margin: 0 0.25em; line-height: 1; border-radius: 0.35em;\">\n",
       "    beobachtete\n",
       "    <span style=\"font-size: 0.8em; font-weight: bold; line-height: 1; border-radius: 0.35em; vertical-align: middle; margin-left: 0.5rem\">PAST</span>\n",
       "</mark>\n",
       " die Boote, weil er sie interresant \n",
       "<mark class=\"entity\" style=\"background: linear-gradient(90deg, #ff9c9c, #e84949); padding: 0.45em 0.6em; margin: 0 0.25em; line-height: 1; border-radius: 0.35em;\">\n",
       "    fand\n",
       "    <span style=\"font-size: 0.8em; font-weight: bold; line-height: 1; border-radius: 0.35em; vertical-align: middle; margin-left: 0.5rem\">PAST</span>\n",
       "</mark>\n",
       ". Der Mann \n",
       "<mark class=\"entity\" style=\"background: linear-gradient(90deg, #ff9c9c, #e84949); padding: 0.45em 0.6em; margin: 0 0.25em; line-height: 1; border-radius: 0.35em;\">\n",
       "    laß\n",
       "    <span style=\"font-size: 0.8em; font-weight: bold; line-height: 1; border-radius: 0.35em; vertical-align: middle; margin-left: 0.5rem\">PAST</span>\n",
       "</mark>\n",
       " die Boote zu Wasser, weil er daran Spaß \n",
       "<mark class=\"entity\" style=\"background: linear-gradient(90deg, #ff9c9c, #e84949); padding: 0.45em 0.6em; margin: 0 0.25em; line-height: 1; border-radius: 0.35em;\">\n",
       "    hatte\n",
       "    <span style=\"font-size: 0.8em; font-weight: bold; line-height: 1; border-radius: 0.35em; vertical-align: middle; margin-left: 0.5rem\">PAST</span>\n",
       "</mark>\n",
       ". Die Eisenbahn \n",
       "<mark class=\"entity\" style=\"background: linear-gradient(90deg, #ff9c9c, #e84949); padding: 0.45em 0.6em; margin: 0 0.25em; line-height: 1; border-radius: 0.35em;\">\n",
       "    fuhr\n",
       "    <span style=\"font-size: 0.8em; font-weight: bold; line-height: 1; border-radius: 0.35em; vertical-align: middle; margin-left: 0.5rem\">PAST</span>\n",
       "</mark>\n",
       " durch der Rand des Brunnens, weil er Züge \n",
       "<mark class=\"entity\" style=\"background: linear-gradient(90deg, #ff9c9c, #e84949); padding: 0.45em 0.6em; margin: 0 0.25em; line-height: 1; border-radius: 0.35em;\">\n",
       "    mochte\n",
       "    <span style=\"font-size: 0.8em; font-weight: bold; line-height: 1; border-radius: 0.35em; vertical-align: middle; margin-left: 0.5rem\">PAST</span>\n",
       "</mark>\n",
       ". Die Boote \n",
       "<mark class=\"entity\" style=\"background: linear-gradient(90deg, #ff9c9c, #e84949); padding: 0.45em 0.6em; margin: 0 0.25em; line-height: 1; border-radius: 0.35em;\">\n",
       "    segelten\n",
       "    <span style=\"font-size: 0.8em; font-weight: bold; line-height: 1; border-radius: 0.35em; vertical-align: middle; margin-left: 0.5rem\">PAST</span>\n",
       "</mark>\n",
       " übers Wasser, weil sie aus Holz \n",
       "<mark class=\"entity\" style=\"background: linear-gradient(90deg, #ffd799, #ffa500); padding: 0.45em 0.6em; margin: 0 0.25em; line-height: 1; border-radius: 0.35em;\">\n",
       "    gemacht\n",
       "    <span style=\"font-size: 0.8em; font-weight: bold; line-height: 1; border-radius: 0.35em; vertical-align: middle; margin-left: 0.5rem\">VERB</span>\n",
       "</mark>\n",
       " \n",
       "<mark class=\"entity\" style=\"background: linear-gradient(90deg, #ff9c9c, #e84949); padding: 0.45em 0.6em; margin: 0 0.25em; line-height: 1; border-radius: 0.35em;\">\n",
       "    wurden\n",
       "    <span style=\"font-size: 0.8em; font-weight: bold; line-height: 1; border-radius: 0.35em; vertical-align: middle; margin-left: 0.5rem\">PAST</span>\n",
       "</mark>\n",
       ". Herr Jakob \n",
       "<mark class=\"entity\" style=\"background: linear-gradient(90deg, #ff9c9c, #e84949); padding: 0.45em 0.6em; margin: 0 0.25em; line-height: 1; border-radius: 0.35em;\">\n",
       "    bastelte\n",
       "    <span style=\"font-size: 0.8em; font-weight: bold; line-height: 1; border-radius: 0.35em; vertical-align: middle; margin-left: 0.5rem\">PAST</span>\n",
       "</mark>\n",
       " die Schienen zusammen, weil dann \n",
       "<mark class=\"entity\" style=\"background: linear-gradient(90deg, #ff9c9c, #e84949); padding: 0.45em 0.6em; margin: 0 0.25em; line-height: 1; border-radius: 0.35em;\">\n",
       "    könnte\n",
       "    <span style=\"font-size: 0.8em; font-weight: bold; line-height: 1; border-radius: 0.35em; vertical-align: middle; margin-left: 0.5rem\">PAST</span>\n",
       "</mark>\n",
       " die Eisenbahn nicht \n",
       "<mark class=\"entity\" style=\"background: linear-gradient(90deg, #ffd799, #ffa500); padding: 0.45em 0.6em; margin: 0 0.25em; line-height: 1; border-radius: 0.35em;\">\n",
       "    fahren\n",
       "    <span style=\"font-size: 0.8em; font-weight: bold; line-height: 1; border-radius: 0.35em; vertical-align: middle; margin-left: 0.5rem\">VERB</span>\n",
       "</mark>\n",
       ". Herr Jakob \n",
       "<mark class=\"entity\" style=\"background: linear-gradient(90deg, #ff9c9c, #e84949); padding: 0.45em 0.6em; margin: 0 0.25em; line-height: 1; border-radius: 0.35em;\">\n",
       "    kehrte\n",
       "    <span style=\"font-size: 0.8em; font-weight: bold; line-height: 1; border-radius: 0.35em; vertical-align: middle; margin-left: 0.5rem\">PAST</span>\n",
       "</mark>\n",
       " zur Brunnen zurück, weil er neue Ideen \n",
       "<mark class=\"entity\" style=\"background: linear-gradient(90deg, #ff9c9c, #e84949); padding: 0.45em 0.6em; margin: 0 0.25em; line-height: 1; border-radius: 0.35em;\">\n",
       "    hatte\n",
       "    <span style=\"font-size: 0.8em; font-weight: bold; line-height: 1; border-radius: 0.35em; vertical-align: middle; margin-left: 0.5rem\">PAST</span>\n",
       "</mark>\n",
       ". Herr Jakob \n",
       "<mark class=\"entity\" style=\"background: linear-gradient(90deg, #ff9c9c, #e84949); padding: 0.45em 0.6em; margin: 0 0.25em; line-height: 1; border-radius: 0.35em;\">\n",
       "    baute\n",
       "    <span style=\"font-size: 0.8em; font-weight: bold; line-height: 1; border-radius: 0.35em; vertical-align: middle; margin-left: 0.5rem\">PAST</span>\n",
       "</mark>\n",
       " die Schienen auf, weil er die fuhren \n",
       "<mark class=\"entity\" style=\"background: linear-gradient(90deg, #ffd799, #ffa500); padding: 0.45em 0.6em; margin: 0 0.25em; line-height: 1; border-radius: 0.35em;\">\n",
       "    lassen\n",
       "    <span style=\"font-size: 0.8em; font-weight: bold; line-height: 1; border-radius: 0.35em; vertical-align: middle; margin-left: 0.5rem\">VERB</span>\n",
       "</mark>\n",
       " \n",
       "<mark class=\"entity\" style=\"background: linear-gradient(90deg, #9cffac, #49e85d); padding: 0.45em 0.6em; margin: 0 0.25em; line-height: 1; border-radius: 0.35em;\">\n",
       "    will\n",
       "    <span style=\"font-size: 0.8em; font-weight: bold; line-height: 1; border-radius: 0.35em; vertical-align: middle; margin-left: 0.5rem\">PRES</span>\n",
       "</mark>\n",
       ".</div>\n",
       "</figure>\n",
       "</body>\n",
       "</html>"
      ]
     },
     "metadata": {},
     "output_type": "display_data"
    }
   ],
   "execution_count": 10
  },
  {
   "metadata": {},
   "cell_type": "markdown",
   "source": "## After Spelling Correction",
   "id": "9bc082a43695a314"
  },
  {
   "metadata": {
    "ExecuteTime": {
     "end_time": "2025-08-24T19:08:08.360308Z",
     "start_time": "2025-08-24T19:07:58.953380Z"
    }
   },
   "cell_type": "code",
   "source": "spell_corrected_text = correct_spelling(text)",
   "id": "b177c6564d5452aa",
   "outputs": [],
   "execution_count": 11
  },
  {
   "metadata": {
    "ExecuteTime": {
     "end_time": "2025-08-24T19:08:08.504581Z",
     "start_time": "2025-08-24T19:08:08.371394Z"
    }
   },
   "cell_type": "code",
   "source": [
    "verb_counter, doc = count_verbs(spell_corrected_text)\n",
    "print(f\"Verb count: {verb_counter}\")\n",
    "html = displacy.render(doc, style=\"ent\", options=options, page=True, jupyter=False)\n",
    "display(HTML(html))"
   ],
   "id": "396f32da28482d97",
   "outputs": [
    {
     "name": "stdout",
     "output_type": "stream",
     "text": [
      "Verb count: {'PRES': 1, 'PAST': 13, 'VERB': 17}\n"
     ]
    },
    {
     "data": {
      "text/plain": [
       "<IPython.core.display.HTML object>"
      ],
      "text/html": [
       "<!DOCTYPE html>\n",
       "<html lang=\"de\">\n",
       "    <head>\n",
       "        <title>displaCy</title>\n",
       "    </head>\n",
       "\n",
       "    <body style=\"font-size: 16px; font-family: -apple-system, BlinkMacSystemFont, 'Segoe UI', Helvetica, Arial, sans-serif, 'Apple Color Emoji', 'Segoe UI Emoji', 'Segoe UI Symbol'; padding: 4rem 2rem; direction: ltr\">\n",
       "<figure style=\"margin-bottom: 6rem\">\n",
       "<div class=\"entities\" style=\"line-height: 2.5; direction: ltr\">Die Männerrunde am Brunnen Herr Jakob \n",
       "<mark class=\"entity\" style=\"background: linear-gradient(90deg, #ff9c9c, #e84949); padding: 0.45em 0.6em; margin: 0 0.25em; line-height: 1; border-radius: 0.35em;\">\n",
       "    beobachtete\n",
       "    <span style=\"font-size: 0.8em; font-weight: bold; line-height: 1; border-radius: 0.35em; vertical-align: middle; margin-left: 0.5rem\">PAST</span>\n",
       "</mark>\n",
       " die Boote, weil er sie interessant \n",
       "<mark class=\"entity\" style=\"background: linear-gradient(90deg, #ff9c9c, #e84949); padding: 0.45em 0.6em; margin: 0 0.25em; line-height: 1; border-radius: 0.35em;\">\n",
       "    fand\n",
       "    <span style=\"font-size: 0.8em; font-weight: bold; line-height: 1; border-radius: 0.35em; vertical-align: middle; margin-left: 0.5rem\">PAST</span>\n",
       "</mark>\n",
       ". Der Mann \n",
       "<mark class=\"entity\" style=\"background: linear-gradient(90deg, #ff9c9c, #e84949); padding: 0.45em 0.6em; margin: 0 0.25em; line-height: 1; border-radius: 0.35em;\">\n",
       "    ließ\n",
       "    <span style=\"font-size: 0.8em; font-weight: bold; line-height: 1; border-radius: 0.35em; vertical-align: middle; margin-left: 0.5rem\">PAST</span>\n",
       "</mark>\n",
       " die Boote zu Wasser, weil er daran Spaß \n",
       "<mark class=\"entity\" style=\"background: linear-gradient(90deg, #ff9c9c, #e84949); padding: 0.45em 0.6em; margin: 0 0.25em; line-height: 1; border-radius: 0.35em;\">\n",
       "    hatte\n",
       "    <span style=\"font-size: 0.8em; font-weight: bold; line-height: 1; border-radius: 0.35em; vertical-align: middle; margin-left: 0.5rem\">PAST</span>\n",
       "</mark>\n",
       ". Die Eisenbahn \n",
       "<mark class=\"entity\" style=\"background: linear-gradient(90deg, #ff9c9c, #e84949); padding: 0.45em 0.6em; margin: 0 0.25em; line-height: 1; border-radius: 0.35em;\">\n",
       "    fuhr\n",
       "    <span style=\"font-size: 0.8em; font-weight: bold; line-height: 1; border-radius: 0.35em; vertical-align: middle; margin-left: 0.5rem\">PAST</span>\n",
       "</mark>\n",
       " durch den Rand des Brunnens, weil er Züge \n",
       "<mark class=\"entity\" style=\"background: linear-gradient(90deg, #ff9c9c, #e84949); padding: 0.45em 0.6em; margin: 0 0.25em; line-height: 1; border-radius: 0.35em;\">\n",
       "    mochte\n",
       "    <span style=\"font-size: 0.8em; font-weight: bold; line-height: 1; border-radius: 0.35em; vertical-align: middle; margin-left: 0.5rem\">PAST</span>\n",
       "</mark>\n",
       ". Die Boote \n",
       "<mark class=\"entity\" style=\"background: linear-gradient(90deg, #ff9c9c, #e84949); padding: 0.45em 0.6em; margin: 0 0.25em; line-height: 1; border-radius: 0.35em;\">\n",
       "    segelten\n",
       "    <span style=\"font-size: 0.8em; font-weight: bold; line-height: 1; border-radius: 0.35em; vertical-align: middle; margin-left: 0.5rem\">PAST</span>\n",
       "</mark>\n",
       " übers Wasser, weil sie aus Holz \n",
       "<mark class=\"entity\" style=\"background: linear-gradient(90deg, #ffd799, #ffa500); padding: 0.45em 0.6em; margin: 0 0.25em; line-height: 1; border-radius: 0.35em;\">\n",
       "    gemacht\n",
       "    <span style=\"font-size: 0.8em; font-weight: bold; line-height: 1; border-radius: 0.35em; vertical-align: middle; margin-left: 0.5rem\">VERB</span>\n",
       "</mark>\n",
       " \n",
       "<mark class=\"entity\" style=\"background: linear-gradient(90deg, #ff9c9c, #e84949); padding: 0.45em 0.6em; margin: 0 0.25em; line-height: 1; border-radius: 0.35em;\">\n",
       "    wurden\n",
       "    <span style=\"font-size: 0.8em; font-weight: bold; line-height: 1; border-radius: 0.35em; vertical-align: middle; margin-left: 0.5rem\">PAST</span>\n",
       "</mark>\n",
       ". Herr Jakob \n",
       "<mark class=\"entity\" style=\"background: linear-gradient(90deg, #ff9c9c, #e84949); padding: 0.45em 0.6em; margin: 0 0.25em; line-height: 1; border-radius: 0.35em;\">\n",
       "    bastelte\n",
       "    <span style=\"font-size: 0.8em; font-weight: bold; line-height: 1; border-radius: 0.35em; vertical-align: middle; margin-left: 0.5rem\">PAST</span>\n",
       "</mark>\n",
       " die Schienen zusammen, weil dann \n",
       "<mark class=\"entity\" style=\"background: linear-gradient(90deg, #ff9c9c, #e84949); padding: 0.45em 0.6em; margin: 0 0.25em; line-height: 1; border-radius: 0.35em;\">\n",
       "    könnte\n",
       "    <span style=\"font-size: 0.8em; font-weight: bold; line-height: 1; border-radius: 0.35em; vertical-align: middle; margin-left: 0.5rem\">PAST</span>\n",
       "</mark>\n",
       " die Eisenbahn nicht \n",
       "<mark class=\"entity\" style=\"background: linear-gradient(90deg, #ffd799, #ffa500); padding: 0.45em 0.6em; margin: 0 0.25em; line-height: 1; border-radius: 0.35em;\">\n",
       "    fahren\n",
       "    <span style=\"font-size: 0.8em; font-weight: bold; line-height: 1; border-radius: 0.35em; vertical-align: middle; margin-left: 0.5rem\">VERB</span>\n",
       "</mark>\n",
       ". Herr Jakob \n",
       "<mark class=\"entity\" style=\"background: linear-gradient(90deg, #ff9c9c, #e84949); padding: 0.45em 0.6em; margin: 0 0.25em; line-height: 1; border-radius: 0.35em;\">\n",
       "    kehrte\n",
       "    <span style=\"font-size: 0.8em; font-weight: bold; line-height: 1; border-radius: 0.35em; vertical-align: middle; margin-left: 0.5rem\">PAST</span>\n",
       "</mark>\n",
       " zum Brunnen zurück, weil er neue Ideen \n",
       "<mark class=\"entity\" style=\"background: linear-gradient(90deg, #ff9c9c, #e84949); padding: 0.45em 0.6em; margin: 0 0.25em; line-height: 1; border-radius: 0.35em;\">\n",
       "    hatte\n",
       "    <span style=\"font-size: 0.8em; font-weight: bold; line-height: 1; border-radius: 0.35em; vertical-align: middle; margin-left: 0.5rem\">PAST</span>\n",
       "</mark>\n",
       ". Herr Jakob \n",
       "<mark class=\"entity\" style=\"background: linear-gradient(90deg, #ff9c9c, #e84949); padding: 0.45em 0.6em; margin: 0 0.25em; line-height: 1; border-radius: 0.35em;\">\n",
       "    baute\n",
       "    <span style=\"font-size: 0.8em; font-weight: bold; line-height: 1; border-radius: 0.35em; vertical-align: middle; margin-left: 0.5rem\">PAST</span>\n",
       "</mark>\n",
       " die Schienen auf, weil er die fuhren \n",
       "<mark class=\"entity\" style=\"background: linear-gradient(90deg, #ffd799, #ffa500); padding: 0.45em 0.6em; margin: 0 0.25em; line-height: 1; border-radius: 0.35em;\">\n",
       "    lassen\n",
       "    <span style=\"font-size: 0.8em; font-weight: bold; line-height: 1; border-radius: 0.35em; vertical-align: middle; margin-left: 0.5rem\">VERB</span>\n",
       "</mark>\n",
       " \n",
       "<mark class=\"entity\" style=\"background: linear-gradient(90deg, #9cffac, #49e85d); padding: 0.45em 0.6em; margin: 0 0.25em; line-height: 1; border-radius: 0.35em;\">\n",
       "    will\n",
       "    <span style=\"font-size: 0.8em; font-weight: bold; line-height: 1; border-radius: 0.35em; vertical-align: middle; margin-left: 0.5rem\">PRES</span>\n",
       "</mark>\n",
       ".</div>\n",
       "</figure>\n",
       "</body>\n",
       "</html>"
      ]
     },
     "metadata": {},
     "output_type": "display_data"
    }
   ],
   "execution_count": 12
  }
 ],
 "metadata": {
  "kernelspec": {
   "display_name": "Python 3",
   "language": "python",
   "name": "python3"
  },
  "language_info": {
   "codemirror_mode": {
    "name": "ipython",
    "version": 2
   },
   "file_extension": ".py",
   "mimetype": "text/x-python",
   "name": "python",
   "nbconvert_exporter": "python",
   "pygments_lexer": "ipython2",
   "version": "2.7.6"
  }
 },
 "nbformat": 4,
 "nbformat_minor": 5
}

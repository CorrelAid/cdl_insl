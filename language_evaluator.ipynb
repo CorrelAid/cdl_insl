{
 "cells": [
  {
   "cell_type": "code",
   "id": "initial_id",
   "metadata": {
    "collapsed": true,
    "ExecuteTime": {
     "end_time": "2025-08-26T14:01:50.432842Z",
     "start_time": "2025-08-26T14:01:46.517413Z"
    }
   },
   "source": [
    "import os\n",
    "import pandas as pd\n",
    "from openai import OpenAI\n",
    "from dotenv import load_dotenv\n",
    "load_dotenv()"
   ],
   "outputs": [
    {
     "data": {
      "text/plain": [
       "True"
      ]
     },
     "execution_count": 1,
     "metadata": {},
     "output_type": "execute_result"
    }
   ],
   "execution_count": 1
  },
  {
   "metadata": {
    "ExecuteTime": {
     "end_time": "2025-08-26T14:01:50.500355Z",
     "start_time": "2025-08-26T14:01:50.467521Z"
    }
   },
   "cell_type": "code",
   "source": [
    "df = pd.read_csv(\"data/data.csv\")\n",
    "df.head()"
   ],
   "id": "87f838f8d50692cc",
   "outputs": [
    {
     "data": {
      "text/plain": [
       "                                                text  \\\n",
       "0  Die Männerrunde am Brunnen\\n\\nHerr Jakob steht...   \n",
       "1  Herr Jakob guckt den Männern zu wie sie\\nDie S...   \n",
       "2  Die Männerrunde am Brunnen \\nHerr Jakob beobac...   \n",
       "3  Die Männerrunden am Brunnen\\n\\nHerr Jakob beob...   \n",
       "4  Herr Jakob\\n\\nHerr jakob beobadete die Boote.\\...   \n",
       "\n",
       "                                  llm_corrected_text  \n",
       "0  Die Männerrunde am Brunnen Herr Jakob steht am...  \n",
       "1  Herr Jakob guckt den Männern zu wie sie die Sc...  \n",
       "2  Die Männerrunde am Brunnen Herr Jakob beobacht...  \n",
       "3  Die Männerrunden am Brunnen. Herr Jakob beobac...  \n",
       "4  Herr Jakob Herr Jakob beobachtete die Boote. D...  "
      ],
      "text/html": [
       "<div>\n",
       "<style scoped>\n",
       "    .dataframe tbody tr th:only-of-type {\n",
       "        vertical-align: middle;\n",
       "    }\n",
       "\n",
       "    .dataframe tbody tr th {\n",
       "        vertical-align: top;\n",
       "    }\n",
       "\n",
       "    .dataframe thead th {\n",
       "        text-align: right;\n",
       "    }\n",
       "</style>\n",
       "<table border=\"1\" class=\"dataframe\">\n",
       "  <thead>\n",
       "    <tr style=\"text-align: right;\">\n",
       "      <th></th>\n",
       "      <th>text</th>\n",
       "      <th>llm_corrected_text</th>\n",
       "    </tr>\n",
       "  </thead>\n",
       "  <tbody>\n",
       "    <tr>\n",
       "      <th>0</th>\n",
       "      <td>Die Männerrunde am Brunnen\\n\\nHerr Jakob steht...</td>\n",
       "      <td>Die Männerrunde am Brunnen Herr Jakob steht am...</td>\n",
       "    </tr>\n",
       "    <tr>\n",
       "      <th>1</th>\n",
       "      <td>Herr Jakob guckt den Männern zu wie sie\\nDie S...</td>\n",
       "      <td>Herr Jakob guckt den Männern zu wie sie die Sc...</td>\n",
       "    </tr>\n",
       "    <tr>\n",
       "      <th>2</th>\n",
       "      <td>Die Männerrunde am Brunnen \\nHerr Jakob beobac...</td>\n",
       "      <td>Die Männerrunde am Brunnen Herr Jakob beobacht...</td>\n",
       "    </tr>\n",
       "    <tr>\n",
       "      <th>3</th>\n",
       "      <td>Die Männerrunden am Brunnen\\n\\nHerr Jakob beob...</td>\n",
       "      <td>Die Männerrunden am Brunnen. Herr Jakob beobac...</td>\n",
       "    </tr>\n",
       "    <tr>\n",
       "      <th>4</th>\n",
       "      <td>Herr Jakob\\n\\nHerr jakob beobadete die Boote.\\...</td>\n",
       "      <td>Herr Jakob Herr Jakob beobachtete die Boote. D...</td>\n",
       "    </tr>\n",
       "  </tbody>\n",
       "</table>\n",
       "</div>"
      ]
     },
     "execution_count": 2,
     "metadata": {},
     "output_type": "execute_result"
    }
   ],
   "execution_count": 2
  },
  {
   "metadata": {},
   "cell_type": "markdown",
   "source": "# Clean Text",
   "id": "30d1bbb1f469657f"
  },
  {
   "metadata": {
    "ExecuteTime": {
     "end_time": "2025-08-26T14:02:54.237357Z",
     "start_time": "2025-08-26T14:02:54.231820Z"
    }
   },
   "cell_type": "code",
   "source": [
    "import re\n",
    "\n",
    "def clean_text(text: str):\n",
    "    text = re.sub(r'\\s+',' ', text).strip() # Remove extra spaces\n",
    "    text = re.sub(r'[^\\w\\s.,!?äöüÄÖÜß-]', '', text)  # Remove non-alphabetic/emojis except German chars\n",
    "\n",
    "    return text"
   ],
   "id": "78a6c5c207d401d2",
   "outputs": [],
   "execution_count": 7
  },
  {
   "metadata": {},
   "cell_type": "markdown",
   "source": "# Spelling Correction",
   "id": "5e07e80634b8d9ab"
  },
  {
   "metadata": {
    "ExecuteTime": {
     "end_time": "2025-08-26T09:48:42.254603Z",
     "start_time": "2025-08-26T09:48:41.879112Z"
    }
   },
   "cell_type": "code",
   "source": "client = OpenAI(api_key=os.environ[\"DEEPSEEK_API_KEY\"], base_url=\"https://api.deepseek.com\")",
   "id": "352a99d7a454d3d3",
   "outputs": [],
   "execution_count": 5
  },
  {
   "metadata": {
    "ExecuteTime": {
     "end_time": "2025-08-26T09:48:43.384120Z",
     "start_time": "2025-08-26T09:48:43.376781Z"
    }
   },
   "cell_type": "code",
   "source": [
    "def correct_spelling(text):\n",
    "    response = client.chat.completions.create(\n",
    "        model=\"deepseek-chat\",\n",
    "        messages=[\n",
    "            {\"role\": \"user\", \"content\": f\"Return the below text after spelling correction. Leave the rest of errors as it is. Do not do any formatting.\\n\\n{text}\"},\n",
    "        ],\n",
    "        stream=False\n",
    "    )\n",
    "    return response.choices[0].message.content"
   ],
   "id": "6b7589b2a712765",
   "outputs": [],
   "execution_count": 6
  },
  {
   "metadata": {
    "ExecuteTime": {
     "end_time": "2025-08-26T09:54:14.847296Z",
     "start_time": "2025-08-26T09:48:49.353178Z"
    }
   },
   "cell_type": "code",
   "source": [
    "# corrected_text = []\n",
    "# for i in df.text:\n",
    "#     text_ = clean_text(i)\n",
    "#     text_ = correct_spelling(text_)\n",
    "#     corrected_text.append(text_)\n",
    "# df['llm_corrected_text'] = corrected_text\n",
    "# df.to_csv(\"data/data.csv\", index=False)"
   ],
   "id": "842e654558ec7c92",
   "outputs": [],
   "execution_count": 7
  },
  {
   "metadata": {},
   "cell_type": "markdown",
   "source": "# Count Verbs",
   "id": "c25c699167339e99"
  },
  {
   "metadata": {
    "ExecuteTime": {
     "end_time": "2025-08-26T14:01:59.314312Z",
     "start_time": "2025-08-26T14:01:50.525648Z"
    }
   },
   "cell_type": "code",
   "source": [
    "import spacy\n",
    "from spacy import displacy\n",
    "from spacy.tokens import Span\n",
    "from IPython.display import display, HTML\n",
    "# Load spaCy German model\n",
    "# Make sure to install it first with: python -m spacy download de_dep_news_trf\n",
    "nlp = spacy.load(\"de_dep_news_trf\")"
   ],
   "id": "5535fb4967c26fd9",
   "outputs": [],
   "execution_count": 3
  },
  {
   "metadata": {
    "ExecuteTime": {
     "end_time": "2025-08-24T18:24:51.337181Z",
     "start_time": "2025-08-24T18:24:51.332622Z"
    }
   },
   "cell_type": "code",
   "source": [
    "# for label in nlp.get_pipe(\"tagger\").labels:\n",
    "#     print(label, \" -- \", spacy.explain(label))"
   ],
   "id": "d09bf3c96c4ef71a",
   "outputs": [],
   "execution_count": 6
  },
  {
   "metadata": {
    "ExecuteTime": {
     "end_time": "2025-08-26T14:01:59.811125Z",
     "start_time": "2025-08-26T14:01:59.804211Z"
    }
   },
   "cell_type": "code",
   "source": [
    "def count_verbs(text):\n",
    "    doc = nlp(text)\n",
    "    spans = []\n",
    "    verb_counter = {'PRES': 0, 'PAST': 0, 'VERB': 0}\n",
    "    for token in doc:\n",
    "        if token.pos_ in [\"VERB\", \"AUX\"]:\n",
    "            # Detect tense\n",
    "            verb_counter['VERB'] += 1\n",
    "            if \"Tense=Pres\" in token.morph:\n",
    "                label = \"PRES\"\n",
    "                verb_counter['PRES'] += 1\n",
    "            elif \"Tense=Past\" in token.morph:\n",
    "                label = \"PAST\"\n",
    "                verb_counter['PAST'] += 1\n",
    "            else:\n",
    "                label = \"VERB\"\n",
    "\n",
    "            span = Span(doc, token.i, token.i+1, label=label)\n",
    "            spans.append(span)\n",
    "    # Add spans as entities\n",
    "    doc.ents = spans\n",
    "    return verb_counter, doc"
   ],
   "id": "9ed0c2127d069c7b",
   "outputs": [],
   "execution_count": 4
  },
  {
   "metadata": {
    "ExecuteTime": {
     "end_time": "2025-08-26T14:01:59.933599Z",
     "start_time": "2025-08-26T14:01:59.927802Z"
    }
   },
   "cell_type": "code",
   "source": [
    "# Visualization options with different colors\n",
    "options = {\n",
    "    \"ents\": [\"PRES\", \"PAST\", \"VERB\"],\n",
    "    \"colors\": {\n",
    "        \"PRES\": \"linear-gradient(90deg, #9cffac, #49e85d)\", # green\n",
    "        \"PAST\": \"linear-gradient(90deg, #ff9c9c, #e84949)\" , # red\n",
    "        \"VERB\": \"linear-gradient(90deg, #ffd799, #ffa500)\", # orange\n",
    "    }\n",
    "}"
   ],
   "id": "fdb884c3df8bb8e4",
   "outputs": [],
   "execution_count": 5
  },
  {
   "metadata": {},
   "cell_type": "markdown",
   "source": "## Write output to HTML",
   "id": "d2c81e000e9c59c1"
  },
  {
   "metadata": {
    "ExecuteTime": {
     "end_time": "2025-08-26T14:12:21.795075Z",
     "start_time": "2025-08-26T14:12:12.854037Z"
    }
   },
   "cell_type": "code",
   "source": [
    "html_parts = [\"\"\"\n",
    "<!DOCTYPE html>\n",
    "<html>\n",
    "<head>\n",
    "    <title>Language Evaluation Results</title>\n",
    "    <style>\n",
    "        body { font-family: Arial, sans-serif; margin: 20px; }\n",
    "        .section { margin: 30px 0; border-bottom: 1px solid #ccc; padding-bottom: 20px; }\n",
    "        .text-index { font-size: 24px; font-weight: bold; color: #333; }\n",
    "        .counts { font-size: 16px; margin: 10px 0; }\n",
    "        .original { color: #d32f2f; }\n",
    "        .corrected { color: #388e3c; }\n",
    "    </style>\n",
    "</head>\n",
    "<body>\n",
    "    <h1>Language Evaluation Results</h1>\n",
    "\"\"\"]\n",
    "\n",
    "for ind, values in enumerate(df.values):\n",
    "    ori_count, ori_doc = count_verbs(clean_text(values[0]))\n",
    "    corr_count, corr_doc = count_verbs(values[1])\n",
    "\n",
    "    html_parts.append(f'<div class=\"section\">')\n",
    "    html_parts.append(f'<div class=\"text-index\">Text: {ind + 1}</div>')\n",
    "\n",
    "    html_parts.append(f'<div class=\"counts original\">Original: {ori_count}</div>')\n",
    "    html = displacy.render(ori_doc, style=\"ent\", options=options, page=False, minify=True, jupyter=False)\n",
    "    html_parts.append(html)\n",
    "\n",
    "    html_parts.append(f'<div class=\"counts corrected\">Spellings Corrected(LLM): {corr_count}</div>')\n",
    "    html = displacy.render(corr_doc, style=\"ent\", options=options, page=False, minify=True, jupyter=False)\n",
    "    html_parts.append(html)\n",
    "    html_parts.append('</div>')\n",
    "\n",
    "html_parts.append(\"\"\"\n",
    "</body>\n",
    "</html>\n",
    "\"\"\")\n",
    "# Combine all HTML parts and save to file\n",
    "complete_html = '\\n'.join(html_parts)\n",
    "with open('data/language_evaluation_results.html', 'w', encoding='utf-8') as f:\n",
    "    f.write(complete_html)\n"
   ],
   "id": "74e93adfe21a4480",
   "outputs": [],
   "execution_count": 15
  },
  {
   "metadata": {},
   "cell_type": "markdown",
   "source": "## Original Text",
   "id": "44cb16bcf0e4c945"
  },
  {
   "metadata": {
    "ExecuteTime": {
     "end_time": "2025-08-24T19:07:54.778302Z",
     "start_time": "2025-08-24T19:07:54.772780Z"
    }
   },
   "cell_type": "markdown",
   "source": [
    "text = clean_text(df.text.iloc[2])\n",
    "text"
   ],
   "id": "b9e49996d8e3e129"
  },
  {
   "metadata": {
    "ExecuteTime": {
     "end_time": "2025-08-24T19:07:56.821664Z",
     "start_time": "2025-08-24T19:07:56.683926Z"
    }
   },
   "cell_type": "markdown",
   "source": [
    "verb_counter, doc = count_verbs(text)\n",
    "print(f\"Verb count: {verb_counter}\")\n",
    "html = displacy.render(doc, style=\"ent\", options=options, page=True, jupyter=False)\n",
    "display(HTML(html))"
   ],
   "id": "7d90c2c05bc895d1"
  },
  {
   "metadata": {},
   "cell_type": "markdown",
   "source": "## After Spelling Correction",
   "id": "9bc082a43695a314"
  },
  {
   "metadata": {
    "ExecuteTime": {
     "end_time": "2025-08-24T19:08:08.360308Z",
     "start_time": "2025-08-24T19:07:58.953380Z"
    }
   },
   "cell_type": "markdown",
   "source": "spell_corrected_text = correct_spelling(text)",
   "id": "a5950afa53491eb4"
  },
  {
   "metadata": {
    "ExecuteTime": {
     "end_time": "2025-08-24T19:08:08.504581Z",
     "start_time": "2025-08-24T19:08:08.371394Z"
    }
   },
   "cell_type": "markdown",
   "source": [
    "verb_counter, doc = count_verbs(spell_corrected_text)\n",
    "print(f\"Verb count: {verb_counter}\")\n",
    "html = displacy.render(doc, style=\"ent\", options=options, page=True, jupyter=False)\n",
    "display(HTML(html))"
   ],
   "id": "f3256faa947c20b3"
  }
 ],
 "metadata": {
  "kernelspec": {
   "display_name": "Python 3",
   "language": "python",
   "name": "python3"
  },
  "language_info": {
   "codemirror_mode": {
    "name": "ipython",
    "version": 2
   },
   "file_extension": ".py",
   "mimetype": "text/x-python",
   "name": "python",
   "nbconvert_exporter": "python",
   "pygments_lexer": "ipython2",
   "version": "2.7.6"
  }
 },
 "nbformat": 4,
 "nbformat_minor": 5
}

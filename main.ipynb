{
 "cells": [
  {
   "cell_type": "code",
   "execution_count": 126,
   "id": "e1805ee6",
   "metadata": {},
   "outputs": [
    {
     "data": {
      "text/plain": [
       "True"
      ]
     },
     "execution_count": 126,
     "metadata": {},
     "output_type": "execute_result"
    }
   ],
   "source": [
    "from bs4 import BeautifulSoup\n",
    "import polars as pl\n",
    "from markdownify import markdownify as md\n",
    "import stanza\n",
    "import dspy\n",
    "from dotenv import load_dotenv\n",
    "import os\n",
    "from spacy_conll import init_parser\n",
    "import spacy\n",
    "load_dotenv()"
   ]
  },
  {
   "cell_type": "markdown",
   "id": "90f7f495",
   "metadata": {},
   "source": [
    "### Loading from Google Doc Table\n",
    "\n",
    "Doc was manually exported as html and saved locally. Html was then parsed and both text version converted to a table"
   ]
  },
  {
   "cell_type": "code",
   "execution_count": 116,
   "id": "25595557",
   "metadata": {},
   "outputs": [],
   "source": [
    "with open(\"data/doc.html\") as f:\n",
    "    content = f.read()\n",
    "soup = BeautifulSoup(content)"
   ]
  },
  {
   "cell_type": "code",
   "execution_count": 117,
   "id": "38a8c910",
   "metadata": {},
   "outputs": [
    {
     "data": {
      "text/plain": [
       "'Die Männerrunde am Brunnen   \\n Herr Jakob steht am Brunnen und beobachtet, wie die andere Männer ihre kleine Schiffe zu Wasser lassen. Er geht und holt Materialien für sein Schiff. Er bastelt sein Schiff. Herr Jakob läßt das Schiff zu Wasser.'"
      ]
     },
     "execution_count": 117,
     "metadata": {},
     "output_type": "execute_result"
    }
   ],
   "source": [
    "table = soup.find_all(\"table\")[0]\n",
    "all_cells = table.find_all(\"td\")\n",
    "\n",
    "second_col = []\n",
    "fourth_col = []\n",
    "\n",
    "for row in table.find_all(\"tr\"):\n",
    "    cells = row.find_all(\"td\")\n",
    "\n",
    "    if len(cells) < 4:\n",
    "        continue\n",
    "\n",
    "    def proc(cell):\n",
    "        ps = cell.find_all(\"p\")\n",
    "        lst = []\n",
    "        for p in ps:\n",
    "            if p.text == \"\":\n",
    "                # replace empty paragraph with br tag\n",
    "                lst.append(\"<br>\")\n",
    "            else:\n",
    "                lst.append(p.decode_contents().strip())\n",
    "        temp = \" \".join(lst)\n",
    "\n",
    "        temp = md(temp).replace(\"\\n   \\n\", \"\")\n",
    "        return temp.strip()\n",
    "\n",
    "    second_col.append(proc(cells[1]))\n",
    "    fourth_col.append(proc(cells[3]))\n",
    "\n",
    "data = {\"t1\": second_col[1:], \"t2\": fourth_col[1:]}\n",
    "df = pl.from_dict(data)\n",
    "example = df[0][\"t1\"].item()\n",
    "example"
   ]
  },
  {
   "cell_type": "markdown",
   "id": "957441af",
   "metadata": {},
   "source": [
    "### Part of Spech tagging and Dependency Parsing"
   ]
  },
  {
   "cell_type": "code",
   "execution_count": 118,
   "id": "56dd2258",
   "metadata": {},
   "outputs": [
    {
     "name": "stderr",
     "output_type": "stream",
     "text": [
      "2025-08-19 16:13:31 INFO: Checking for updates to resources.json in case models have been updated.  Note: this behavior can be turned off with download_method=None or download_method=DownloadMethod.REUSE_RESOURCES\n"
     ]
    },
    {
     "data": {
      "application/vnd.jupyter.widget-view+json": {
       "model_id": "f0edd00f45014f3abd3e8c756141097a",
       "version_major": 2,
       "version_minor": 0
      },
      "text/plain": [
       "Downloading https://raw.githubusercontent.com/stanfordnlp/stanza-resources/main/resources_1.10.0.json:   0%|  …"
      ]
     },
     "metadata": {},
     "output_type": "display_data"
    },
    {
     "name": "stderr",
     "output_type": "stream",
     "text": [
      "2025-08-19 16:13:31 INFO: Downloaded file to /home/jstet/stanza_resources/resources.json\n",
      "2025-08-19 16:13:32 INFO: Loading these models for language: de (German):\n",
      "=================================\n",
      "| Processor | Package           |\n",
      "---------------------------------\n",
      "| tokenize  | combined          |\n",
      "| mwt       | combined          |\n",
      "| pos       | combined_charlm   |\n",
      "| lemma     | combined_nocharlm |\n",
      "| depparse  | combined_charlm   |\n",
      "=================================\n",
      "\n",
      "2025-08-19 16:13:32 INFO: Using device: cpu\n",
      "2025-08-19 16:13:32 INFO: Loading: tokenize\n",
      "2025-08-19 16:13:32 INFO: Loading: mwt\n",
      "2025-08-19 16:13:32 INFO: Loading: pos\n",
      "2025-08-19 16:13:33 INFO: Loading: lemma\n",
      "2025-08-19 16:13:39 INFO: Loading: depparse\n",
      "2025-08-19 16:13:39 INFO: Done loading processors!\n"
     ]
    }
   ],
   "source": [
    "nlp = stanza.Pipeline(\n",
    "    lang='de',\n",
    "    processors='tokenize,mwt,pos,lemma,depparse'\n",
    ")"
   ]
  },
  {
   "cell_type": "code",
   "execution_count": 119,
   "id": "da39e6c1",
   "metadata": {},
   "outputs": [],
   "source": [
    "def display(doc):\n",
    "    for sent in doc.sentences:\n",
    "        for word in sent.words:\n",
    "            print(\n",
    "                f\"{word.text}\\t\" \n",
    "                f\"{word.lemma}\\t\"\n",
    "                f\"{word.upos}\\t\" # https://universaldependencies.org/u/pos/index.html\n",
    "                f\"{word.xpos}\\t\" # treebank-specific POS \n",
    "                f\"{word.feats or '_'}\\t\" # https://universaldependencies.org/u/feat/index.html\n",
    "                f\"{word.deprel}\" # https://universaldependencies.org/u/dep/index.html\n",
    "            )"
   ]
  },
  {
   "cell_type": "markdown",
   "id": "d58c59f2",
   "metadata": {},
   "source": [
    "Works perfectly for correct spelling."
   ]
  },
  {
   "cell_type": "code",
   "execution_count": 120,
   "id": "f474c51e",
   "metadata": {},
   "outputs": [
    {
     "name": "stdout",
     "output_type": "stream",
     "text": [
      "Er\ter\tPRON\tPPER\tCase=Nom|Gender=Masc|Number=Sing|Person=3|PronType=Prs\tnsubj\n",
      "baute\tbauen\tVERB\tVVFIN\tMood=Ind|Number=Sing|Person=3|Tense=Past|VerbForm=Fin\troot\n",
      "es\tes\tPRON\tPPER\tCase=Acc|Gender=Neut|Number=Sing|Person=3|PronType=Prs\tobj\n",
      "auf\tauf\tADP\tPTKVZ\t_\tcompound:prt\n",
      ".\t.\tPUNCT\t$.\t_\tpunct\n",
      "Er\ter\tPRON\tPPER\tCase=Nom|Gender=Masc|Number=Sing|Person=3|PronType=Prs\tnsubj\n",
      "hat\thaben\tAUX\tVAFIN\tMood=Ind|Number=Sing|Person=3|Tense=Pres|VerbForm=Fin\taux\n",
      "es\tes\tPRON\tPPER\tCase=Acc|Gender=Neut|Number=Sing|Person=3|PronType=Prs\tobj\n",
      "aufgebaut\taufbauen\tVERB\tVVPP\tVerbForm=Part\troot\n"
     ]
    }
   ],
   "source": [
    "correct = \"Er baute es auf. Er hat es aufgebaut\"\n",
    "correct_doc = nlp(correct)\n",
    "display(correct_doc)"
   ]
  },
  {
   "cell_type": "markdown",
   "id": "0410db72",
   "metadata": {},
   "source": [
    "Does not work for properly for incorrect spelling."
   ]
  },
  {
   "cell_type": "code",
   "execution_count": 121,
   "id": "f0329f07",
   "metadata": {},
   "outputs": [
    {
     "name": "stdout",
     "output_type": "stream",
     "text": [
      "Herr\tHerr\tNOUN\tNN\tCase=Nom|Gender=Masc|Number=Sing\tcompound\n",
      "Jakob\tJakob\tPROPN\tNE\tCase=Nom|Gender=Masc|Number=Sing\tnsubj\n",
      "so\tso\tADV\tADV\t_\tadvmod\n",
      "heiß\theiß\tADJ\tADJD\tDegree=Pos\troot\n",
      "die\tder\tDET\tART\tCase=Nom|Definite=Def|Gender=Fem|Number=Sing|PronType=Art\tdet\n",
      "Haand\tHaand\tPROPN\tNE\tCase=Nom|Gender=Fem|Number=Sing\tnsubj\n",
      "Figure\tFigure\tPROPN\tNE\tCase=Nom|Gender=Fem|Number=Sing\tflat\n",
      ".\t.\tPUNCT\t$.\t_\tpunct\n",
      "Herr\tHerr\tNOUN\tNN\tCase=Nom|Gender=Masc|Number=Sing\tcompound\n",
      "Jakob\tJakob\tPROPN\tNE\tCase=Nom|Gender=Masc|Number=Sing\tnsubj\n",
      "ist\tsein\tAUX\tVAFIN\tMood=Ind|Number=Sing|Person=3|Tense=Pres|VerbForm=Fin\troot\n",
      "neben\tneben\tADP\tAPPR\t_\tcase\n",
      "drei\tdrei\tNUM\tCARD\tNumType=Card\tnummod\n",
      "männer\tmann\tNOUN\tNN\tCase=Dat|Gender=Masc|Number=Plur\tobl\n",
      "und\tund\tCCONJ\tKON\t_\tcc\n",
      "die\tder\tDET\tART\tCase=Nom|Definite=Def|Number=Plur|PronType=Art\tdet\n",
      "kuken\tkuken\tNOUN\tNN\tCase=Nom|Number=Plur\tconj\n",
      "auf\tauf\tADP\tAPPR\t_\tcase\n",
      "dass\tdass\tSCONJ\tKOUS\t_\tmark\n",
      "wasser\twassern\tADJ\tADJD\tDegree=Pos\tconj\n",
      ".\t.\tPUNCT\t$.\t_\tpunct\n"
     ]
    }
   ],
   "source": [
    "misspelled1 = \"\"\"Herr Jakob so heiß die Haand Figure. Herr Jakob ist neben drei männer und die kuken auf dass wasser.\n",
    "\"\"\"\n",
    "display(nlp(misspelled1))\n"
   ]
  },
  {
   "cell_type": "code",
   "execution_count": 122,
   "id": "2ca27611",
   "metadata": {},
   "outputs": [
    {
     "name": "stdout",
     "output_type": "stream",
     "text": [
      "Und\tund\tCCONJ\tKON\t_\tcc\n",
      "Herr\tHerr\tNOUN\tNN\tCase=Nom|Gender=Masc|Number=Sing\tcompound\n",
      "Jakob\tJakob\tPROPN\tNE\tCase=Nom|Gender=Masc|Number=Sing\tnsubj\n",
      "hat\thaben\tVERB\tVAFIN\tMood=Ind|Number=Sing|Person=3|Tense=Pres|VerbForm=Fin\troot\n",
      "ein\tein\tDET\tART\tCase=Acc|Definite=Ind|Gender=Masc|NumType=Card|Number=Sing|PronType=Art\tdet\n",
      "Hund\tHund\tNOUN\tNN\tCase=Acc|Gender=Masc|Number=Sing\tobj\n",
      ",\t,\tPUNCT\t$,\t_\tpunct\n",
      "er\ter\tPRON\tPPER\tCase=Nom|Gender=Masc|Number=Sing|Person=3|PronType=Prs\tnsubj\n",
      "geit\tgeien\tVERB\tVVFIN\tMood=Ind|Number=Sing|Person=3|VerbForm=Fin\tconj\n",
      "wek\twek\tADJ\tADJD\tDegree=Pos\txcomp\n",
      ".\t.\tPUNCT\t$.\t_\tpunct\n"
     ]
    }
   ],
   "source": [
    "misspelled2 = \"\"\"Und Herr Jakob hat ein Hund, er geit wek.\"\"\"\n",
    "display(nlp(misspelled2))"
   ]
  },
  {
   "cell_type": "markdown",
   "id": "bcdfa20c",
   "metadata": {},
   "source": [
    "#### Spacy"
   ]
  },
  {
   "cell_type": "code",
   "execution_count": 135,
   "id": "f5e5742c",
   "metadata": {},
   "outputs": [
    {
     "name": "stdout",
     "output_type": "stream",
     "text": [
      "# sent_id = 1\n",
      "# text = Er baute es auf.\n",
      "1\tEr\ter\tPRON\tPPER\tCase=Nom|Gender=Masc|Number=Sing|Person=3|PronType=Prs\t2\tsb\t_\t_\n",
      "2\tbaute\tbauen\tVERB\tVVFIN\tMood=Ind|Number=Sing|Person=3|Tense=Past|VerbForm=Fin\t0\tROOT\t_\t_\n",
      "3\tes\tes\tPRON\tPPER\tCase=Acc|Gender=Neut|Number=Sing|Person=3|PronType=Prs\t2\toa\t_\t_\n",
      "4\tauf\tauf\tADP\tPTKVZ\t_\t2\tsvp\t_\tSpaceAfter=No\n",
      "5\t.\t--\tPUNCT\t$.\t_\t2\tpunct\t_\t_\n",
      "\n",
      "# sent_id = 2\n",
      "# text = Er hat es aufgebaut\n",
      "1\tEr\ter\tPRON\tPPER\tCase=Nom|Gender=Masc|Number=Sing|Person=3|PronType=Prs\t2\tsb\t_\t_\n",
      "2\that\thaben\tAUX\tVAFIN\tMood=Ind|Number=Sing|Person=3|Tense=Pres|VerbForm=Fin\t0\tROOT\t_\t_\n",
      "3\tes\tes\tPRON\tPPER\tCase=Acc|Gender=Neut|Number=Sing|Person=3|PronType=Prs\t4\toa\t_\t_\n",
      "4\taufgebaut\taufbauen\tVERB\tVVPP\tVerbForm=Part\t2\toc\t_\tSpaceAfter=No\n",
      "\n"
     ]
    }
   ],
   "source": [
    "nlp = init_parser(\"de_core_news_lg\",\n",
    "                  \"spacy\",\n",
    "                  include_headers=True)\n",
    "\n",
    "doc = nlp(\"Er baute es auf. Er hat es aufgebaut\")\n",
    "\n",
    "conll = doc._.conll_str\n",
    "print(conll)"
   ]
  },
  {
   "cell_type": "markdown",
   "id": "4d34cd68",
   "metadata": {},
   "source": [
    "### Counting VERB"
   ]
  },
  {
   "cell_type": "code",
   "execution_count": null,
   "id": "914513b6",
   "metadata": {},
   "outputs": [
    {
     "data": {
      "text/plain": [
       "(2,\n",
       " [{\n",
       "    \"id\": 2,\n",
       "    \"text\": \"baute\",\n",
       "    \"lemma\": \"bauen\",\n",
       "    \"upos\": \"VERB\",\n",
       "    \"xpos\": \"VVFIN\",\n",
       "    \"feats\": \"Mood=Ind|Number=Sing|Person=3|Tense=Past|VerbForm=Fin\",\n",
       "    \"head\": 0,\n",
       "    \"deprel\": \"root\",\n",
       "    \"start_char\": 3,\n",
       "    \"end_char\": 8\n",
       "  },\n",
       "  {\n",
       "    \"id\": 4,\n",
       "    \"text\": \"aufgebaut\",\n",
       "    \"lemma\": \"aufbauen\",\n",
       "    \"upos\": \"VERB\",\n",
       "    \"xpos\": \"VVPP\",\n",
       "    \"feats\": \"VerbForm=Part\",\n",
       "    \"head\": 0,\n",
       "    \"deprel\": \"root\",\n",
       "    \"start_char\": 27,\n",
       "    \"end_char\": 36\n",
       "  }])"
      ]
     },
     "execution_count": 100,
     "metadata": {},
     "output_type": "execute_result"
    }
   ],
   "source": [
    "def count_verb(tagparsed):\n",
    "    count = 0\n",
    "    verbs = []\n",
    "    for send in tagparsed.sentences:\n",
    "        for word in send.words:\n",
    "            if word.upos == \"VERB\":\n",
    "                count +=1\n",
    "                verbs.append(word)\n",
    "    return count,verbs\n",
    "\n",
    "# using correct example from above\n",
    "count_verb(correct_doc)"
   ]
  },
  {
   "cell_type": "code",
   "execution_count": null,
   "id": "01015096",
   "metadata": {},
   "outputs": [
    {
     "name": "stdout",
     "output_type": "stream",
     "text": [
      "Count 1: 3\n",
      "Count 2: 2\n"
     ]
    }
   ],
   "source": [
    "temp = \"Dieser Satz könnte vier Verben haben, wenn sich das Wetter morgen nicht verschlechtert und ich deswegen kein Fahrrad fahren kann.\"\n",
    "count, verbs = count_verb(nlp(temp))\n",
    "print(\"Count 1:\", count)\n",
    "temp = \"Dieser Satz hätte drei Verben, wenn er nicht bald enden würde\"\n",
    "temp_doc = nlp(temp)\n",
    "count, verbs = count_verb(nlp(temp_doc))\n",
    "print(\"Count 2:\", count)"
   ]
  },
  {
   "cell_type": "markdown",
   "id": "6bcbc19d",
   "metadata": {},
   "source": [
    "### Implementing spelling correction with LLMs"
   ]
  },
  {
   "cell_type": "code",
   "execution_count": null,
   "id": "ad8f314d",
   "metadata": {},
   "outputs": [],
   "source": [
    "class SpellingCorrection(dspy.Signature):\n",
    "    \"\"\"Correct Spelling of german text. Try to correct word for word (but taking into account grammatical correctness based on the whole sentence) and stay true to the original word order.\"\"\"\n",
    "    text: str = dspy.InputField()\n",
    "    corrected: list = dspy.OutputField(desc=\"The potentially correct words and punctuation as a list in the order as they appear in the sentence.\")\n",
    "\n",
    "examples = [\n",
    "    dspy.Example(text=\"Und Herr Jakob hat ein Hund, er geit wek.\",corrected=['Und', 'Herr', 'Jakob', 'hat', 'einen', 'Hund', ',', 'er', 'geht', 'weg']).with_inputs(\"text\"),\n",
    "    dspy.Example(text=\"Herr Jakob so heiß die Haand Figure. Herr Jakob ist neben drei männer und die kuken auf dass wasser\", \n",
    "                 corrected=['Herr', 'Jakob', 'heißt', 'die', 'Hauptfigur', \".\", 'Herr', 'Jakob', 'ist', 'neben', 'drei', 'Männern', 'und', 'sie', 'gucken', 'auf', 'das', 'Wasser.']).with_inputs(\"text\"),\n",
    "    ]\n",
    "\n",
    "lm = dspy.LM(\"openai/mistralai/mistral-medium-3.1\", api_key=os.getenv(\"OR_KEY\"), api_base=\"https://openrouter.ai/api/v1\")\n",
    "dspy.configure(lm=lm)\n",
    "prog = dspy.Predict(SpellingCorrection)\n",
    "teleprompter = dspy.LabeledFewShot()\n",
    "opt = teleprompter.compile(prog,trainset=examples)\n"
   ]
  },
  {
   "cell_type": "markdown",
   "id": "9c6f3c76",
   "metadata": {},
   "source": [
    "Afterwards, spelling correction, pos tagging and dependency parsing works."
   ]
  },
  {
   "cell_type": "code",
   "execution_count": null,
   "id": "8c2c053a",
   "metadata": {},
   "outputs": [
    {
     "name": "stdout",
     "output_type": "stream",
     "text": [
      "Er\ter\tPRON\tPPER\tCase=Nom|Gender=Masc|Number=Sing|Person=3|PronType=Prs\tnsubj\n",
      "hat\thaben\tAUX\tVAFIN\tMood=Ind|Number=Sing|Person=3|Tense=Pres|VerbForm=Fin\taux\n",
      "geöffnet\töffnen\tVERB\tVVPP\tVerbForm=Part\troot\n",
      ".\t.\tPUNCT\t$.\t_\tpunct\n",
      "Und\tund\tCCONJ\tKON\t_\tcc\n",
      "danach\tdanach\tADV\tPAV\t_\tadvmod\n",
      "hat\thaben\tAUX\tVAFIN\tMood=Ind|Number=Sing|Person=3|Tense=Pres|VerbForm=Fin\taux\n",
      "er\ter\tPRON\tPPER\tCase=Nom|Gender=Masc|Number=Sing|Person=3|PronType=Prs\tnsubj\n",
      "Schienen\tSchiene\tNOUN\tNN\tCase=Acc|Gender=Fem|Number=Plur\tobj\n",
      "gebaut\tbauen\tVERB\tVVPP\tVerbForm=Part\troot\n",
      "und\tund\tCCONJ\tKON\t_\tcc\n",
      "mit\tmit\tADP\tAPPR\t_\tcase\n",
      "einem\tein\tDET\tART\tCase=Dat|Definite=Ind|Gender=Masc|NumType=Card|Number=Sing|PronType=Art\tdet\n",
      "Zug\tZug\tNOUN\tNN\tCase=Dat|Gender=Masc|Number=Sing\tobl\n"
     ]
    }
   ],
   "source": [
    "corrected = \" \".join(opt(text=\"Er hat geöffen. und danach er hat gebaut Schienen und mit ein zug\").corrected)\n",
    "temp_doc = nlp(corrected)\n",
    "display(temp_doc)"
   ]
  },
  {
   "cell_type": "code",
   "execution_count": null,
   "id": "aa3eaf19",
   "metadata": {},
   "outputs": [
    {
     "data": {
      "text/plain": [
       "(2,\n",
       " [{\n",
       "    \"id\": 3,\n",
       "    \"text\": \"geöffnet\",\n",
       "    \"lemma\": \"öffnen\",\n",
       "    \"upos\": \"VERB\",\n",
       "    \"xpos\": \"VVPP\",\n",
       "    \"feats\": \"VerbForm=Part\",\n",
       "    \"head\": 0,\n",
       "    \"deprel\": \"root\",\n",
       "    \"start_char\": 7,\n",
       "    \"end_char\": 15\n",
       "  },\n",
       "  {\n",
       "    \"id\": 6,\n",
       "    \"text\": \"gebaut\",\n",
       "    \"lemma\": \"bauen\",\n",
       "    \"upos\": \"VERB\",\n",
       "    \"xpos\": \"VVPP\",\n",
       "    \"feats\": \"VerbForm=Part\",\n",
       "    \"head\": 0,\n",
       "    \"deprel\": \"root\",\n",
       "    \"start_char\": 45,\n",
       "    \"end_char\": 51\n",
       "  }])"
      ]
     },
     "execution_count": 104,
     "metadata": {},
     "output_type": "execute_result"
    }
   ],
   "source": [
    "count_verb(temp_doc)"
   ]
  }
 ],
 "metadata": {
  "kernelspec": {
   "display_name": "insl",
   "language": "python",
   "name": "python3"
  },
  "language_info": {
   "codemirror_mode": {
    "name": "ipython",
    "version": 3
   },
   "file_extension": ".py",
   "mimetype": "text/x-python",
   "name": "python",
   "nbconvert_exporter": "python",
   "pygments_lexer": "ipython3",
   "version": "3.12.7"
  }
 },
 "nbformat": 4,
 "nbformat_minor": 5
}
